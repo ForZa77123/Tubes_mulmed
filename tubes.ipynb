{
 "cells": [
  {
   "cell_type": "markdown",
   "id": "8f4363cd",
   "metadata": {},
   "source": [
    "## Tubes Filter Brainrot\n",
    "122140070 - Felix Ferdinandus Martua Pasaribu\\\n",
    "122140073 - Kiagus M Roihan Ananta\\\n",
    "122140075 - Pricelia Putri Sudirman Zulkarnain"
   ]
  },
  {
   "cell_type": "code",
   "execution_count": null,
   "id": "599df265",
   "metadata": {},
   "outputs": [],
   "source": [
    "import cv2\n",
    "import numpy as np\n",
    "import os\n",
    "import matplotlib.pyplot as plt\n",
    "import mediapipe as mp"
   ]
  }
 ],
 "metadata": {
  "kernelspec": {
   "display_name": "myenv",
   "language": "python",
   "name": "python3"
  },
  "language_info": {
   "name": "python",
   "version": "3.12.7"
  }
 },
 "nbformat": 4,
 "nbformat_minor": 5
}
