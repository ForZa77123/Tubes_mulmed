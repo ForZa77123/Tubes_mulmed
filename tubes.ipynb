{
 "cells": [
  {
   "cell_type": "markdown",
   "id": "8f4363cd",
   "metadata": {},
   "source": [
    "## Tubes Filter Brainrot\n",
    "122140070 - Felix Ferdinandus Martua Pasaribu\\\n",
    "122140073 - Kiagus M Roihan Ananta\\\n",
    "122140075 - Pricelia Putri Sudirman Zulkarnain"
   ]
  }
 ],
 "metadata": {
  "language_info": {
   "name": "python"
  }
 },
 "nbformat": 4,
 "nbformat_minor": 5
}
